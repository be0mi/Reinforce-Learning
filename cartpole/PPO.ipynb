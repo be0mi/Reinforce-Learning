{
 "cells": [
  {
   "cell_type": "code",
   "execution_count": 334,
   "metadata": {},
   "outputs": [],
   "source": [
    "import numpy as np\n",
    "import torch\n",
    "import gym\n",
    "from torch import nn\n",
    "import matplotlib.pyplot as plt\n",
    "import torch.nn.functional as F"
   ]
  },
  {
   "cell_type": "code",
   "execution_count": 335,
   "metadata": {},
   "outputs": [],
   "source": [
    "device = 'cuda' if torch.cuda.is_available() else 'cpu'"
   ]
  },
  {
   "cell_type": "code",
   "execution_count": 336,
   "metadata": {},
   "outputs": [],
   "source": [
    "class Memory:\n",
    "    def __init__(self):\n",
    "        self.batch = []\n",
    "    \n",
    "    def clear_the_batch(self):\n",
    "        self.batch = []\n",
    "\n",
    "    def add_batch(self, sample: tuple):\n",
    "        self.batch.append(sample)\n",
    "    \n",
    "    def get_batch(self):\n",
    "        state_batch = []\n",
    "        action_batch = []\n",
    "        reward_batch = []\n",
    "        next_state_batch = []\n",
    "\n",
    "        for state, action, reward, next_state in self.batch:\n",
    "            state_batch.append(state)\n",
    "            action_batch.append(action)\n",
    "            reward_batch.append(reward)\n",
    "            next_state_batch.append(next_state)\n",
    "        \n",
    "        return (torch.tensor(state_batch, device=device), torch.tensor(action_batch, device=device), torch.tensor(reward_batch, device=device), torch.tensor(next_state_batch, device=device))\n",
    "\n",
    "\n",
    "\n",
    "def t(x): return torch.from_numpy(x).float().to(device)"
   ]
  },
  {
   "cell_type": "code",
   "execution_count": 337,
   "metadata": {},
   "outputs": [],
   "source": [
    "# Actor module, categorical actions only\n",
    "class Actor(nn.Module):\n",
    "    def __init__(self, state_dim, n_actions):\n",
    "        super().__init__()\n",
    "        self.model = nn.Sequential(\n",
    "            nn.Linear(state_dim, 64),\n",
    "            nn.ReLU(),\n",
    "            nn.Linear(64, 32),\n",
    "            nn.ReLU(),\n",
    "            nn.Linear(32, n_actions),\n",
    "            nn.Softmax()\n",
    "        )\n",
    "    \n",
    "    def forward(self, X):\n",
    "        return self.model(X)"
   ]
  },
  {
   "cell_type": "code",
   "execution_count": 338,
   "metadata": {},
   "outputs": [],
   "source": [
    "# Critic module\n",
    "class Critic(nn.Module):\n",
    "    def __init__(self, state_dim):\n",
    "        super().__init__()\n",
    "        self.model = nn.Sequential(\n",
    "            nn.Linear(state_dim, 64),\n",
    "            nn.ReLU(),\n",
    "            nn.Linear(64, 32),\n",
    "            nn.ReLU(),\n",
    "            nn.Linear(32, 1)\n",
    "        )\n",
    "    \n",
    "    def forward(self, X):\n",
    "        return self.model(X)"
   ]
  },
  {
   "cell_type": "code",
   "execution_count": 339,
   "metadata": {},
   "outputs": [],
   "source": [
    "env = gym.make(\"CartPole-v1\")"
   ]
  },
  {
   "cell_type": "code",
   "execution_count": 340,
   "metadata": {},
   "outputs": [],
   "source": [
    "# config\n",
    "state_dim = env.observation_space.shape[0]\n",
    "n_actions = env.action_space.n\n",
    "actor = Actor(state_dim, n_actions).to(device)\n",
    "old_actor = Actor(state_dim, n_actions).to(device)\n",
    "buffer = Memory()\n",
    "critic = Critic(state_dim).to(device)\n",
    "adam_actor = torch.optim.Adam(actor.parameters(), lr=0.0001)\n",
    "adam_critic = torch.optim.Adam(critic.parameters(), lr=0.0001)\n",
    "\n",
    "gamma = 0.99\n",
    "sampling_epoch = 50\n",
    "epoch = 10\n",
    "eps = 0.05 "
   ]
  },
  {
   "cell_type": "code",
   "execution_count": 341,
   "metadata": {},
   "outputs": [
    {
     "data": {
      "text/plain": [
       "<All keys matched successfully>"
      ]
     },
     "execution_count": 341,
     "metadata": {},
     "output_type": "execute_result"
    }
   ],
   "source": [
    "actor_state_dict = actor.state_dict()\n",
    "old_actor.load_state_dict(actor_state_dict)"
   ]
  },
  {
   "cell_type": "code",
   "execution_count": 342,
   "metadata": {},
   "outputs": [],
   "source": [
    "is_ipython = 'inline' in plt.get_backend()\n",
    "if is_ipython:\n",
    "    from IPython import display\n",
    "\n",
    "def plot_durations(score_list,show_result=False):\n",
    "    plt.figure(1)\n",
    "    durations_t = torch.tensor(score_list, dtype=torch.float)\n",
    "    if show_result:\n",
    "        plt.title('Result')\n",
    "    else:\n",
    "        plt.clf()\n",
    "        plt.title('Training...')\n",
    "    plt.xlabel('Episode')\n",
    "    plt.ylabel('Duration')\n",
    "    plt.plot(durations_t.numpy())\n",
    "\n",
    "    if len(durations_t) >= 100:\n",
    "        means = durations_t.unfold(0, 100, 1).mean(1).view(-1)\n",
    "        means = torch.cat((torch.zeros(99), means))\n",
    "        plt.plot(means.numpy())\n",
    "\n",
    "    plt.pause(0.001) \n",
    "    \n",
    "    if is_ipython:\n",
    "        if not show_result:\n",
    "            display.display(plt.gcf())\n",
    "            display.clear_output(wait=True)\n",
    "        else:\n",
    "            display.display(plt.gcf())"
   ]
  },
  {
   "cell_type": "code",
   "execution_count": 343,
   "metadata": {},
   "outputs": [
    {
     "data": {
      "image/png": "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
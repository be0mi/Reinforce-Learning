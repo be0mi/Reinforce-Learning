{
 "cells": [
  {
   "cell_type": "code",
   "execution_count": 1,
   "metadata": {},
   "outputs": [],
   "source": [
    "import numpy as np\n",
    "import torch\n",
    "import gym\n",
    "from torch import nn\n",
    "import matplotlib.pyplot as plt"
   ]
  },
  {
   "cell_type": "code",
   "execution_count": 2,
   "metadata": {},
   "outputs": [],
   "source": [
    "# helper function to convert numpy arrays to tensors\n",
    "def t(x): return torch.from_numpy(x).float()"
   ]
  },
  {
   "cell_type": "code",
   "execution_count": 3,
   "metadata": {},
   "outputs": [],
   "source": [
    "# Actor module, categorical actions only\n",
    "class Actor(nn.Module):\n",
    "    def __init__(self, state_dim, n_actions):\n",
    "        super().__init__()\n",
    "        self.model = nn.Sequential(\n",
    "            nn.Linear(state_dim, 64),\n",
    "            nn.Tanh(),\n",
    "            nn.Linear(64, 32),\n",
    "            nn.Tanh(),\n",
    "            nn.Linear(32, n_actions),\n",
    "            nn.Softmax()\n",
    "        )\n",
    "    \n",
    "    def forward(self, X):\n",
    "        return self.model(X)"
   ]
  },
  {
   "cell_type": "code",
   "execution_count": 4,
   "metadata": {},
   "outputs": [],
   "source": [
    "# Critic module\n",
    "class Critic(nn.Module):\n",
    "    def __init__(self, state_dim):\n",
    "        super().__init__()\n",
    "        self.model = nn.Sequential(\n",
    "            nn.Linear(state_dim, 64),\n",
    "            nn.ReLU(),\n",
    "            nn.Linear(64, 32),\n",
    "            nn.ReLU(),\n",
    "            nn.Linear(32, 1)\n",
    "        )\n",
    "    \n",
    "    def forward(self, X):\n",
    "        return self.model(X)"
   ]
  },
  {
   "cell_type": "code",
   "execution_count": 5,
   "metadata": {},
   "outputs": [
    {
     "name": "stdout",
     "output_type": "stream",
     "text": [
      "\u001b[33mWARN: gym.spaces.Box autodetected dtype as <class 'numpy.float32'>. Please provide explicit dtype.\u001b[0m\n"
     ]
    },
    {
     "name": "stderr",
     "output_type": "stream",
     "text": [
      "/Users/alvaro/.asdf/installs/python/3.6.3/lib/python3.6/site-packages/gym/envs/registration.py:14: PkgResourcesDeprecationWarning: Parameters to load are deprecated.  Call .resolve and .require separately.\n",
      "  result = entry_point.load(False)\n"
     ]
    }
   ],
   "source": [
    "env = gym.make(\"CartPole-v1\")"
   ]
  },
  {
   "cell_type": "code",
   "execution_count": 6,
   "metadata": {},
   "outputs": [],
   "source": [
    "# config\n",
    "state_dim = env.observation_space.shape[0]\n",
    "n_actions = env.action_space.n\n",
    "actor = Actor(state_dim, n_actions)\n",
    "critic = Critic(state_dim)\n",
    "adam_actor = torch.optim.Adam(actor.parameters(), lr=1e-3)\n",
    "adam_critic = torch.optim.Adam(critic.parameters(), lr=1e-3)\n",
    "gamma = 0.99"
   ]
  },
  {
   "cell_type": "code",
   "execution_count": 10,
   "metadata": {},
   "outputs": [
    {
     "name": "stderr",
     "output_type": "stream",
     "text": [
      "/Users/alvaro/.asdf/installs/python/3.6.3/lib/python3.6/site-packages/torch/nn/modules/container.py:92: UserWarning: Implicit dimension choice for softmax has been deprecated. Change the call to include dim=X as an argument.\n",
      "  input = module(input)\n"
     ]
    }
   ],
   "source": [
    "episode_rewards = []\n",
    "\n",
    "for i in range(500):\n",
    "    done = False\n",
    "    total_reward = 0\n",
    "    state = env.reset()\n",
    "\n",
    "\n",
    "    while not done:\n",
    "        probs = actor(t(state))\n",
    "        dist = torch.distributions.Categorical(probs=probs)\n",
    "        action = dist.sample()\n",
    "        \n",
    "        next_state, reward, done, info = env.step(action.detach().data.numpy())\n",
    "        advantage = reward + (1-done)*gamma*critic(t(next_state)) - critic(t(state))\n",
    "        \n",
    "        total_reward += reward\n",
    "        state = next_state\n",
    "\n",
    "        critic_loss = advantage.pow(2).mean()\n",
    "        adam_critic.zero_grad()\n",
    "        critic_loss.backward()\n",
    "        adam_critic.step()\n",
    "\n",
    "        actor_loss = -dist.log_prob(action)*advantage.detach()\n",
    "        adam_actor.zero_grad()\n",
    "        actor_loss.backward()\n",
    "        adam_actor.step()\n",
    "            \n",
    "    episode_rewards.append(total_reward)"
   ]
  },
  {
   "cell_type": "code",
   "execution_count": 12,
   "metadata": {},
   "outputs": [
    {
     "data": {
      "image/png": "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
{
 "cells": [
  {
   "cell_type": "code",
   "execution_count": 1,
   "metadata": {},
   "outputs": [],
   "source": [
    "import torch.nn as nn\n",
    "import torch.optim as optim\n",
    "import gym\n",
    "import matplotlib.pyplot as plt\n",
    "import torch.nn.functional as F\n",
    "import numpy as np\n",
    "from collections import deque \n",
    "import torch\n",
    "from torch.distributions import Categorical"
   ]
  },
  {
   "cell_type": "code",
   "execution_count": 2,
   "metadata": {},
   "outputs": [
    {
     "data": {
      "text/plain": [
       "<torch._C.Generator at 0x2697fd77cb0>"
      ]
     },
     "execution_count": 2,
     "metadata": {},
     "output_type": "execute_result"
    }
   ],
   "source": [
    "learning_rate = 0.00008\n",
    "gamma = 0.98\n",
    "episodes = 2000\n",
    "seed = 777\n",
    "\n",
    "np.random.seed(seed)\n",
    "torch.manual_seed(seed)"
   ]
  },
  {
   "cell_type": "code",
   "execution_count": 3,
   "metadata": {},
   "outputs": [],
   "source": [
    "class Actor(nn.Module):\n",
    "    def __init__(self):\n",
    "        super(Actor,self).__init__()\n",
    "        self.fc1 = nn.Linear(4,256)\n",
    "        self.fc2 = nn.Linear(256,64)\n",
    "        self.fc3 = nn.Linear(64,2)\n",
    "        self.optimizer = optim.Adam(self.parameters(), lr=learning_rate)\n",
    "    \n",
    "    def forward(self, x):\n",
    "        x = nn.ReLU()(self.fc1(x))\n",
    "        x = nn.ReLU()(self.fc2(x))\n",
    "        prob = nn.Softmax()(self.fc3(x))\n",
    "        return prob\n",
    "    \n",
    "    def optimization(self, cost):\n",
    "        self.optimizer.zero_grad()\n",
    "        cost.backward()\n",
    "        self.optimizer.step()\n",
    "\n",
    "class Critic(nn.Module):\n",
    "    def __init__(self):\n",
    "        super(Critic,self).__init__()\n",
    "        self.fc1 = nn.Linear(4,256)\n",
    "        self.fc2 = nn.Linear(256,64)\n",
    "        self.fc3 = nn.Linear(64,1)\n",
    "        self.optimizer = optim.Adam(self.parameters(), lr=learning_rate)\n",
    "    \n",
    "    def forward(self, x):\n",
    "        x = nn.ReLU()(self.fc1(x))\n",
    "        x = nn.ReLU()(self.fc2(x))\n",
    "        x = self.fc3(x)\n",
    "        return x\n",
    "    \n",
    "    def optimization(self, cost):\n",
    "        self.optimizer.zero_grad()\n",
    "        cost.backward()\n",
    "        self.optimizer.step()"
   ]
  },
  {
   "cell_type": "code",
   "execution_count": 4,
   "metadata": {},
   "outputs": [],
   "source": [
    "is_ipython = 'inline' in plt.get_backend()\n",
    "if is_ipython:\n",
    "    from IPython import display\n",
    "\n",
    "def plot_durations(score_list,show_result=False):\n",
    "    plt.figure(1)\n",
    "    durations_t = torch.tensor(score_list, dtype=torch.float)\n",
    "    if show_result:\n",
    "        plt.title('Result')\n",
    "    else:\n",
    "        plt.clf()\n",
    "        plt.title('Training...')\n",
    "    plt.xlabel('Episode')\n",
    "    plt.ylabel('Duration')\n",
    "    plt.plot(durations_t.numpy())\n",
    "\n",
    "    if len(durations_t) >= 100:\n",
    "        means = durations_t.unfold(0, 100, 1).mean(1).view(-1)\n",
    "        means = torch.cat((torch.zeros(99), means))\n",
    "        plt.plot(means.numpy())\n",
    "\n",
    "    plt.pause(0.001) \n",
    "    \n",
    "    if is_ipython:\n",
    "        if not show_result:\n",
    "            display.display(plt.gcf())\n",
    "            display.clear_output(wait=True)\n",
    "        else:\n",
    "            display.display(plt.gcf())"
   ]
  },
  {
   "cell_type": "code",
   "execution_count": 5,
   "metadata": {},
   "outputs": [
    {
     "data": {
      "image/png": "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
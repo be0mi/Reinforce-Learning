{
 "cells": [
  {
   "cell_type": "code",
   "execution_count": 1,
   "metadata": {},
   "outputs": [],
   "source": [
    "import gym\n",
    "import numpy as np\n",
    "import matplotlib.pyplot as plt\n",
    "from gym.envs.registration import register\n",
    "import random as rd\n",
    "import torch\n",
    "import torch.nn as nn\n",
    "import torch.nn.functional as F\n",
    "import torch.optim as optim\n",
    "import math\n",
    "from collections import deque"
   ]
  },
  {
   "cell_type": "code",
   "execution_count": 2,
   "metadata": {},
   "outputs": [],
   "source": [
    "env = gym.make('CartPole-v1', render_mode = 'rgb_array')"
   ]
  },
  {
   "cell_type": "code",
   "execution_count": 3,
   "metadata": {},
   "outputs": [
    {
     "data": {
      "text/plain": [
       "(2, 4)"
      ]
     },
     "execution_count": 3,
     "metadata": {},
     "output_type": "execute_result"
    }
   ],
   "source": [
    "env.action_space.n, env.observation_space.shape[0]"
   ]
  },
  {
   "cell_type": "code",
   "execution_count": 4,
   "metadata": {},
   "outputs": [],
   "source": [
    "device = 'cuda' if torch.cuda.is_available() else 'cpu'"
   ]
  },
  {
   "cell_type": "code",
   "execution_count": 5,
   "metadata": {},
   "outputs": [],
   "source": [
    "class DQN(nn.Module):\n",
    "    def __init__(self, lr):\n",
    "        super(DQN, self).__init__()\n",
    "        \n",
    "        self.lr = lr\n",
    "        self.memory = []\n",
    "        self.fc1 = nn.Linear(env.observation_space.shape[0],256)\n",
    "        self.fc2 = nn.Linear(256,256)\n",
    "        self.fc3 = nn.Linear(256,env.action_space.n)\n",
    "        \n",
    "    def forward(self, x):\n",
    "        x = self.fc1(x)\n",
    "        x = self.fc2(x)\n",
    "        return self.fc3(x)\n",
    "    \n",
    "class memory:\n",
    "    def __init__(self, capacity):\n",
    "        self.memory = deque([], maxlen = capacity)\n",
    "    \n",
    "    def push(self, arr):\n",
    "        self.memory.append(arr)\n",
    "\n",
    "    def get_mini_batch(self, batch_size):\n",
    "        return rd.sample(self.memory,batch_size)\n",
    "    def __len__(self):\n",
    "        return len(self.memory)\n",
    "    \n",
    "def get_action(obs, eps, model: DQN):\n",
    "    with torch.no_grad():\n",
    "        model.eval()\n",
    "        Qs = model(torch.tensor(obs).to(device))\n",
    "        if np.random.random() > eps:\n",
    "            action = np.argmax(Qs.cpu().detach().numpy())\n",
    "        else:\n",
    "            action = np.random.randint(0,env.action_space.n)\n",
    "    return action\n",
    "\n",
    "def optimization(target_model, policy_model, memory, batch_size):\n",
    "    global d_factor\n",
    "    criterion = nn.MSELoss().to(device)\n",
    "    optimizer = optim.Adam(policy_model.parameters(), lr = policy_model.lr)\n",
    "\n",
    "    if len(memory) < batch_size:\n",
    "        return\n",
    "    else:\n",
    "        batch = memory.get_mini_batch(batch_size)\n",
    "    \n",
    "    # print((d_factor * target_model(torch.stack([batch[i][2] for i in range(batch_size)]).to(device))).size())\n",
    "    y_hat = policy_model(torch.stack([batch[i][0] for i in range(batch_size)]).to(device)).max(1)[0]\n",
    "    with torch.no_grad():\n",
    "        y = d_factor * target_model(torch.stack([batch[i][2] for i in range(batch_size)]).to(device)).max(1)[0] + torch.stack([batch[i][3] for i in range(batch_size)]).to(device)\n",
    "    \n",
    "    cost = criterion(y.to(device), y_hat.to(device))\n",
    "    cost.backward()\n",
    "    optimizer.step()\n",
    "\n"
   ]
  },
  {
   "cell_type": "markdown",
   "metadata": {},
   "source": [
    "https://tutorials.pytorch.kr/intermediate/reinforcement_q_learning.html"
   ]
  },
  {
   "cell_type": "code",
   "execution_count": 6,
   "metadata": {},
   "outputs": [],
   "source": [
    "batch_size = 256\n",
    "gamma = 0.99\n",
    "epochs = 50000\n",
    "d_factor = 0.95\n",
    "eps_decay = 0.99995\n",
    "eps = 1\n",
    "lr = 0.1\n",
    "train_start_epoch = 10000"
   ]
  },
  {
   "cell_type": "code",
   "execution_count": 7,
   "metadata": {},
   "outputs": [
    {
     "data": {
      "text/plain": [
       "<All keys matched successfully>"
      ]
     },
     "execution_count": 7,
     "metadata": {},
     "output_type": "execute_result"
    }
   ],
   "source": [
    "policy_model = DQN(lr = 0.001).to(device)\n",
    "target_model = DQN(lr = 0.001).to(device)\n",
    "target_model.load_state_dict(policy_model.state_dict())"
   ]
  },
  {
   "cell_type": "code",
   "execution_count": 8,
   "metadata": {},
   "outputs": [
    {
     "name": "stderr",
     "output_type": "stream",
     "text": [
      "c:\\Users\\dkstn\\AppData\\Local\\Programs\\Python\\Python310\\lib\\site-packages\\gym\\utils\\passive_env_checker.py:233: DeprecationWarning: `np.bool8` is a deprecated alias for `np.bool_`.  (Deprecated NumPy 1.24)\n",
      "  if not isinstance(terminated, (bool, np.bool8)):\n"
     ]
    },
    {
     "name": "stdout",
     "output_type": "stream",
     "text": [
      "999 16\n",
      "1999 79\n",
      "2999 47\n",
      "3999 13\n",
      "4999 18\n",
      "5999 13\n",
      "6999 14\n",
      "7999 17\n",
      "8999 9\n",
      "9999 17\n",
      "10999 16\n",
      "11999 36\n",
      "12999 19\n",
      "13999 17\n",
      "14999 22\n",
      "15999 15\n",
      "16999 24\n",
      "17999 10\n",
      "18999 12\n",
      "19999 12\n",
      "20999 15\n",
      "21999 12\n",
      "22999 10\n",
      "23999 9\n",
      "24999 13\n",
      "25999 17\n",
      "26999 15\n",
      "27999 19\n",
      "28999 9\n",
      "29999 13\n",
      "30999 13\n",
      "31999 10\n",
      "32999 11\n",
      "33999 10\n",
      "34999 10\n",
      "35999 9\n",
      "36999 9\n",
      "37999 10\n",
      "38999 10\n",
      "39999 11\n",
      "40999 10\n",
      "41999 9\n",
      "42999 10\n",
      "43999 12\n",
      "44999 9\n",
      "45999 12\n",
      "46999 12\n",
      "47999 11\n",
      "48999 10\n",
      "49999 10\n"
     ]
    }
   ],
   "source": [
    "timelist = [0]\n",
    "epslist = []\n",
    "memory = memory(10000)\n",
    "\n",
    "for epoch in range(epochs):\n",
    "    \n",
    "    observation = env.reset()[0]\n",
    "    done = False\n",
    "    time = 0\n",
    "    \n",
    "    while not done:\n",
    "        time += 1\n",
    "        action = get_action(observation, eps, policy_model)\n",
    "        new_observation, reward, done, _, _ =  env.step(action)\n",
    "        memory.push(tuple(map(torch.tensor,(observation, action, new_observation, reward))))\n",
    "        observation = new_observation\n",
    "    \n",
    "    optimization(target_model, policy_model, memory, batch_size)\n",
    "    \n",
    "    if timelist[-1] > time and epoch > 5000:\n",
    "        eps = math.pow(eps_decay, epoch - 5000)\n",
    "    timelist.append(time)\n",
    "    epslist.append(eps)\n",
    "    if (epoch+1) % 1000 == 0:\n",
    "        print(epoch, time) "
   ]
  },
  {
   "cell_type": "code",
   "execution_count": 9,
   "metadata": {},
   "outputs": [
    {
     "name": "stderr",
     "output_type": "stream",
     "text": [
      "c:\\Users\\dkstn\\AppData\\Local\\Programs\\Python\\Python310\\lib\\site-packages\\torch\\nn\\modules\\loss.py:536: UserWarning: Using a target size (torch.Size([])) that is different to the input size (torch.Size([2])). This will likely lead to incorrect results due to broadcasting. Please ensure they have the same size.\n",
      "  return F.mse_loss(input, target, reduction=self.reduction)\n"
     ]
    },
    {
     "name": "stdout",
     "output_type": "stream",
     "text": [
      "999 82\n",
      "1999 25\n",
      "2999 12\n",
      "3999 28\n",
      "4999 11\n",
      "5999 10\n",
      "6999 18\n",
      "7999 13\n",
      "8999 17\n",
      "9999 26\n",
      "10999 31\n",
      "11999 19\n",
      "12999 10\n",
      "13999 33\n",
      "14999 13\n",
      "15999 18\n",
      "16999 28\n",
      "17999 14\n",
      "18999 22\n",
      "19999 22\n",
      "20999 22\n",
      "21999 21\n",
      "22999 13\n",
      "23999 13\n",
      "24999 18\n",
      "25999 18\n",
      "26999 18\n",
      "27999 41\n",
      "28999 20\n",
      "29999 12\n",
      "30999 40\n",
      "31999 20\n",
      "32999 28\n",
      "33999 12\n",
      "34999 15\n",
      "35999 17\n",
      "36999 29\n",
      "37999 9\n",
      "38999 10\n",
      "39999 10\n",
      "40999 19\n",
      "41999 8\n",
      "42999 19\n",
      "43999 21\n",
      "44999 10\n",
      "45999 28\n",
      "46999 85\n",
      "47999 12\n",
      "48999 31\n",
      "49999 22\n"
     ]
    }
   ],
   "source": [
    "model = DQN(lr = 0.001).to(device)\n",
    "target_model = DQN(lr = 0.001).to(device)\n",
    "\n",
    "criterion = nn.MSELoss().to(device)\n",
    "optimizer = optim.Adam(model.parameters(), lr = model.lr)\n",
    "timelist = [0]\n",
    "epslist = []\n",
    "\n",
    "for epoch in range(epochs):\n",
    "    \n",
    "    observation = env.reset()[0]\n",
    "    done = False\n",
    "    time = 0\n",
    "    \n",
    "    while not done:\n",
    "        time += 1\n",
    "        Qs = model(torch.tensor(observation).to(device))\n",
    "        if np.random.random() > eps:\n",
    "            action = np.argmax(Qs.cpu().detach().numpy())\n",
    "        else:\n",
    "            action = np.random.randint(0,env.action_space.n)\n",
    "        new_observation, reward, done, _, _ =  env.step(action)\n",
    "        Qnext = model(torch.tensor(new_observation).to(device))\n",
    "        \n",
    "        if done:\n",
    "            y_hat = -100\n",
    "        else:\n",
    "            y_hat = reward + d_factor * np.argmax(Qnext.cpu().detach().numpy())\n",
    "        # print(observation,  y)\n",
    "        # print(Qs.type(),  torch.tensor(y).type())\n",
    "        cost = criterion(Qs, torch.tensor(y_hat).to(device).float())\n",
    "        cost.backward()\n",
    "        optimizer.step()\n",
    "        observation = new_observation\n",
    "    \n",
    "    if timelist[-1] > time and epoch > 5000:\n",
    "        eps = math.pow(eps_decay, epoch - 5000)\n",
    "    timelist.append(time)\n",
    "    epslist.append(eps)\n",
    "    if (epoch+1) % 1000 == 0:\n",
    "        print(epoch, time) "
   ]
  },
  {
   "cell_type": "code",
   "execution_count": 10,
   "metadata": {},
   "outputs": [
    {
     "data": {
      "image/png": "[encoded data removed]",
      "text/plain": [
       "<Figure size 640x480 with 1 Axes>"
      ]
     },
     "metadata": {},
     "output_type": "display_data"
    },
    {
     "data": {
      "text/plain": [
       "[<matplotlib.lines.Line2D at 0x20fcc06e590>]"
      ]
     },
     "execution_count": 10,
     "metadata": {},
     "output_type": "execute_result"
    },
    {
     "data": {
      "image/png": "[encoded data removed]",
      "text/plain": [
       "<Figure size 640x480 with 1 Axes>"
      ]
     },
     "metadata": {},
     "output_type": "display_data"
    }
   ],
   "source": [
    "import matplotlib.pyplot as plt\n",
    "\n",
    "plt.plot(range(len(timelist)),timelist)\n",
    "plt.show()\n",
    "plt.plot(range(len(epslist)),epslist)"
   ]
  }
 ],
 "metadata": {
  "kernelspec": {
   "display_name": "Python 3",
   "language": "python",
   "name": "python3"
  },
  "language_info": {
   "codemirror_mode": {
    "name": "ipython",
    "version": 3
   },
   "file_extension": ".py",
   "mimetype": "text/x-python",
   "name": "python",
   "nbconvert_exporter": "python",
   "pygments_lexer": "ipython3",
   "version": "3.10.11"
  }
 },
 "nbformat": 4,
 "nbformat_minor": 2
}

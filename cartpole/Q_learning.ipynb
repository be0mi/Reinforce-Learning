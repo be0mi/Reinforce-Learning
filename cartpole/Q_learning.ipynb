{
 "cells": [
  {
   "cell_type": "code",
   "execution_count": 9,
   "metadata": {},
   "outputs": [],
   "source": [
    "import gym\n",
    "import numpy as np\n",
    "import matplotlib.pyplot as plt\n",
    "from gym.envs.registration import register\n",
    "import random as rd\n",
    "from torch import nn"
   ]
  },
  {
   "cell_type": "code",
   "execution_count": 10,
   "metadata": {},
   "outputs": [
    {
     "data": {
      "text/plain": [
       "0.22809543478662087"
      ]
     },
     "execution_count": 10,
     "metadata": {},
     "output_type": "execute_result"
    }
   ],
   "source": [
    "rd.random()"
   ]
  },
  {
   "cell_type": "code",
   "execution_count": 11,
   "metadata": {},
   "outputs": [],
   "source": [
    "env = gym.make('CartPole-v1', render_mode = 'rgb_array')"
   ]
  },
  {
   "cell_type": "code",
   "execution_count": 12,
   "metadata": {},
   "outputs": [],
   "source": [
    "import math\n",
    "def obs2idx(x): \n",
    "    return tuple((1/(1+np.exp(-x))*100).astype(np.int64))"
   ]
  },
  {
   "cell_type": "code",
   "execution_count": 13,
   "metadata": {},
   "outputs": [
    {
     "data": {
      "text/plain": [
       "(100, 100, 100, 100, 2)"
      ]
     },
     "execution_count": 13,
     "metadata": {},
     "output_type": "execute_result"
    }
   ],
   "source": [
    "Q = np.random.uniform(low=0, high=1, size=([100,100,100,100] + [env.action_space.n]))\n",
    "Q.shape"
   ]
  },
  {
   "cell_type": "code",
   "execution_count": 14,
   "metadata": {},
   "outputs": [
    {
     "name": "stderr",
     "output_type": "stream",
     "text": [
      "c:\\Users\\dkstn\\AppData\\Local\\Programs\\Python\\Python310\\lib\\site-packages\\gym\\utils\\passive_env_checker.py:233: DeprecationWarning: `np.bool8` is a deprecated alias for `np.bool_`.  (Deprecated NumPy 1.24)\n",
      "  if not isinstance(terminated, (bool, np.bool8)):\n"
     ]
    },
    {
     "name": "stdout",
     "output_type": "stream",
     "text": [
      "epoch 9999 eps 1\n",
      "epoch 19999 eps 0.6065837347310917\n",
      "epoch 29999 eps 0.36790703377745504\n",
      "epoch 39999 eps 0.22314410649822441\n",
      "epoch 49999 eps 0.1353420502827641\n",
      "epoch 59999 eps 0.08210449657107814\n"
     ]
    }
   ],
   "source": [
    "import time \n",
    "from IPython import display\n",
    "\n",
    "scoreList = []\n",
    "epochs = 60000\n",
    "d_factor = 0.95\n",
    "lr = 0.5\n",
    "epsilon = 1\n",
    "epsilon_decay_value = 0.99995\n",
    "epsilon_arr = []\n",
    "prior_reward = 0\n",
    "\n",
    "for epoch in range(epochs): # 0 left 1 down 2 right 3 up     \n",
    "    observation = env.reset()\n",
    "    observation = observation[0]\n",
    "    \n",
    "    done = False\n",
    "    t = 0\n",
    "    n_reward = 0\n",
    "    if (epoch+1) % 10000 == 0:\n",
    "        print('epoch',epoch,'eps',epsilon)\n",
    "\n",
    "    while not done:\n",
    "        obsidx = obs2idx(observation)\n",
    "        if (epoch + 1) % 10000 == 0:\n",
    "            screen = env.render()\n",
    "        # if (epoch + 1) % 10000 == 0:\n",
    "        #     display.clear_output(wait=True)\n",
    "        #     display.display(plt.gcf())\n",
    "        #     plt.title(str(epoch) + \" \" + str(t))\n",
    "        #     plt.imshow(screen)\n",
    "        \n",
    "        if np.random.random() > epsilon:\n",
    "            action = np.argmax(Q[obsidx])\n",
    "        else:\n",
    "            action = np.random.randint(0, env.action_space.n)\n",
    "        # print(env.step(action))\n",
    "        new_observation, reward, done, info,_ = env.step(action)\n",
    "        newobsidx = obs2idx(new_observation)\n",
    "        n_reward += reward\n",
    "        Q[(obsidx) + (action,)] = (1-lr)*Q[obsidx + (action,)]+lr*(reward + d_factor * np.max(Q[newobsidx]))\n",
    "        observation = new_observation\n",
    "        t += 1\n",
    "    \n",
    "\n",
    "    if epsilon > 0.05: \n",
    "        if n_reward > prior_reward and epoch > 10000:\n",
    "            epsilon = math.pow(epsilon_decay_value, epoch - 10000)\n",
    "\n",
    "    prior_reward = n_reward\n",
    "    scoreList.append(t)\n",
    "    epsilon_arr.append(epsilon)\n",
    "plt.close()\n",
    "env.close()"
   ]
  },
  {
   "cell_type": "code",
   "execution_count": 15,
   "metadata": {},
   "outputs": [
    {
     "data": {
      "image/png": "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
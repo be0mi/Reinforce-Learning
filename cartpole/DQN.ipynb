{
 "cells": [
  {
   "cell_type": "code",
   "execution_count": 28,
   "metadata": {},
   "outputs": [],
   "source": [
    "import gym\n",
    "import numpy as np\n",
    "import matplotlib.pyplot as plt\n",
    "from gym.envs.registration import register\n",
    "import random as rd\n",
    "import torch\n",
    "import torch.nn as nn\n",
    "import torch.nn.functional as F\n",
    "import torch.optim as optim\n",
    "import math\n",
    "from collections import deque\n",
    "import matplotlib.pyplot as plt\n"
   ]
  },
  {
   "cell_type": "code",
   "execution_count": 29,
   "metadata": {},
   "outputs": [],
   "source": [
    "env = gym.make('CartPole-v1', render_mode = 'rgb_array')"
   ]
  },
  {
   "cell_type": "code",
   "execution_count": 30,
   "metadata": {},
   "outputs": [
    {
     "data": {
      "text/plain": [
       "(2, 4)"
      ]
     },
     "execution_count": 30,
     "metadata": {},
     "output_type": "execute_result"
    }
   ],
   "source": [
    "env.action_space.n, env.observation_space.shape[0]"
   ]
  },
  {
   "cell_type": "code",
   "execution_count": 31,
   "metadata": {},
   "outputs": [
    {
     "data": {
      "text/plain": [
       "<torch._C.Generator at 0x1b55dd27110>"
      ]
     },
     "execution_count": 31,
     "metadata": {},
     "output_type": "execute_result"
    }
   ],
   "source": [
    "device = 'cuda' if torch.cuda.is_available() else 'cpu'\n",
    "seed = 777\n",
    "np.random.seed(seed)\n",
    "torch.manual_seed(seed)"
   ]
  },
  {
   "cell_type": "code",
   "execution_count": 32,
   "metadata": {},
   "outputs": [],
   "source": [
    "class DQN(nn.Module):\n",
    "    def __init__(self, lr):\n",
    "        super(DQN, self).__init__()\n",
    "        \n",
    "        self.lr = lr\n",
    "        self.memory = []\n",
    "        self.fc1 = nn.Linear(env.observation_space.shape[0],256)\n",
    "        self.fc2 = nn.Linear(256,256)\n",
    "        self.fc3 = nn.Linear(256,env.action_space.n)\n",
    "        \n",
    "    def forward(self, x):\n",
    "        x = F.relu(self.fc1(x))\n",
    "        x = F.relu(self.fc2(x))\n",
    "        return self.fc3(x)\n",
    "    \n",
    "class memory:\n",
    "    def __init__(self, capacity):\n",
    "        self.memory = deque([], maxlen = capacity)\n",
    "    \n",
    "    def push(self, arr):\n",
    "        self.memory.append(arr)\n",
    "\n",
    "    def get_mini_batch(self, batch_size):\n",
    "        return rd.sample(self.memory,batch_size)\n",
    "    def __len__(self):\n",
    "        return len(self.memory)\n",
    "    \n",
    "def get_action(obs, eps):\n",
    "    global epslist,steps_done\n",
    "    eps = 0.05 + (0.9 - 0.05) * math.exp(-1. * steps_done / 1000)\n",
    "    steps_done += 1\n",
    "    epslist.append(eps)\n",
    "    if np.random.random() > eps:\n",
    "        with torch.no_grad():\n",
    "            return policy_model(torch.tensor(obs, device=device).unsqueeze(0)).max(1)[1].view(1, 1)\n",
    "    else:\n",
    "        return torch.tensor([[env.action_space.sample()]], device=device, dtype=torch.long)\n",
    "\n",
    "def optimization(target_model, policy_model, memory, batch_size):\n",
    "    global d_factor, loss\n",
    "    criterion = nn.HuberLoss().to(device)\n",
    "    optimizer = optim.Adam(policy_model.parameters(), lr = policy_model.lr)\n",
    "    observation_batch, action_batch, reward_batch, new_observation_batch = [], [], [], []\n",
    "    done_mask = deque([])\n",
    "    if len(memory) < batch_size:\n",
    "        return\n",
    "    else:\n",
    "        batch = memory.get_mini_batch(batch_size)\n",
    "    \n",
    "    for i in range(batch_size):\n",
    "        observation_batch.append(torch.tensor(batch[i][0], device=device))\n",
    "        action_batch.append(torch.tensor(batch[i][1],device=device))\n",
    "        reward_batch.append(torch.tensor(batch[i][3], device=device))\n",
    "        if batch[i][2] is not None:\n",
    "            new_observation_batch.append(torch.tensor(batch[i][2], device=device))\n",
    "            done_mask.append(torch.tensor(True))\n",
    "        else:\n",
    "            done_mask.append(torch.tensor(False))\n",
    "\n",
    "    observation_batch = torch.stack(observation_batch)\n",
    "    action_batch = torch.stack(action_batch)\n",
    "    reward_batch = torch.stack(reward_batch)\n",
    "    new_observation_batch = torch.stack(new_observation_batch)\n",
    "    # print(action_batch)\n",
    "    masked_state = torch.zeros(batch_size, device=device)\n",
    "    # print(new_observation_batch.shape)\n",
    "\n",
    "    # print((d_factor * target_model(torch.stack([batch[i][2] for i in range(batch_size)]).to(device))).size())\n",
    "    # print(policy_model(observation_batch.to(device)).shape, action_batch.shape)\n",
    "    y_hat = policy_model(observation_batch).gather(1, action_batch)\n",
    "    # print(y_hat.shape)\n",
    "    with torch.no_grad():\n",
    "        masked_state[done_mask] = target_model(new_observation_batch).max(1)[0]\n",
    "    \n",
    "    y = masked_state * d_factor + reward_batch\n",
    "    # print(reward_batch.shape)\n",
    "    # print(y.shape)\n",
    "    optimizer.zero_grad()\n",
    "    \n",
    "    cost = criterion(y_hat, y.reshape(-1,1))\n",
    "    loss.append(float(cost))\n",
    "    # print(cost)\n",
    "    # print(y_hat, y.reshape(-1,1),y.shape, y_hat.shape)\n",
    "    cost.backward()\n",
    "    optimizer.step()\n",
    "\n",
    "episode_durations = []\n",
    "\n",
    "is_ipython = 'inline' in plt.get_backend()\n",
    "if is_ipython:\n",
    "    from IPython import display\n",
    "\n",
    "def plot_durations(show_result=False):\n",
    "    plt.figure(1)\n",
    "    durations_t = torch.tensor(episode_durations, dtype=torch.float)\n",
    "    if show_result:\n",
    "        plt.title('Result')\n",
    "    else:\n",
    "        plt.clf()\n",
    "        plt.title('Training...')\n",
    "    plt.xlabel('Episode')\n",
    "    plt.ylabel('Duration')\n",
    "    plt.plot(durations_t.numpy())\n",
    "    # 100개의 에피소드 평균을 가져 와서 도표 그리기\n",
    "    if len(durations_t) >= 100:\n",
    "        means = durations_t.unfold(0, 100, 1).mean(1).view(-1)\n",
    "        means = torch.cat((torch.zeros(99), means))\n",
    "        plt.plot(means.numpy())\n",
    "\n",
    "    plt.pause(0.001)  # 도표가 업데이트되도록 잠시 멈춤\n",
    "    if is_ipython:\n",
    "        if not show_result:\n",
    "            display.display(plt.gcf())\n",
    "            display.clear_output(wait=True)\n",
    "        else:\n",
    "            display.display(plt.gcf())"
   ]
  },
  {
   "cell_type": "code",
   "execution_count": 33,
   "metadata": {},
   "outputs": [],
   "source": [
    "batch_size = 256\n",
    "gamma = 0.99\n",
    "epochs = 2000\n",
    "d_factor = 0.95\n",
    "lr = 5e-4\n",
    "seta = 0.005\n",
    "steps_done = 0\n",
    "loss = []"
   ]
  },
  {
   "cell_type": "code",
   "execution_count": 34,
   "metadata": {},
   "outputs": [
    {
     "data": {
      "text/plain": [
       "<All keys matched successfully>"
      ]
     },
     "execution_count": 34,
     "metadata": {},
     "output_type": "execute_result"
    }
   ],
   "source": [
    "policy_model = DQN(lr = lr).to(device)\n",
    "target_model = DQN(lr = lr).to(device)\n",
    "target_model.load_state_dict(policy_model.state_dict())"
   ]
  },
  {
   "cell_type": "code",
   "execution_count": 35,
   "metadata": {},
   "outputs": [
    {
     "data": {
      "text/plain": [
       "tensor([[-0.0357],\n",
       "        [-0.0355],\n",
       "        [ 0.0148],\n",
       "        [-0.0063]])"
      ]
     },
     "execution_count": 35,
     "metadata": {},
     "output_type": "execute_result"
    }
   ],
   "source": [
    "torch.tensor(env.reset()[0]).reshape(-1,1)"
   ]
  },
  {
   "cell_type": "code",
   "execution_count": 36,
   "metadata": {},
   "outputs": [
    {
     "name": "stdout",
     "output_type": "stream",
     "text": [
      "1999 95\n",
      "Complete\n"
     ]
    },
    {
     "data": {
      "image/png": "[encoded data removed]",
      "text/plain": [
       "<Figure size 640x480 with 1 Axes>"
      ]
     },
     "metadata": {},
     "output_type": "display_data"
    },
    {
     "data": {
      "text/plain": [
       "<Figure size 640x480 with 0 Axes>"
      ]
     },
     "metadata": {},
     "output_type": "display_data"
    },
    {
     "data": {
      "text/plain": [
       "<Figure size 640x480 with 0 Axes>"
      ]
     },
     "metadata": {},
     "output_type": "display_data"
    }
   ],
   "source": [
    "timelist = [0]\n",
    "epslist = []\n",
    "memory = memory(10000)\n",
    "\n",
    "for epoch in range(epochs):\n",
    "    \n",
    "    state = env.reset()[0]\n",
    "    rd.seed(777)\n",
    "    done = False\n",
    "    time = 0\n",
    "    \n",
    "    while not done:\n",
    "        # if (epoch + 1) % 100 == 0:\n",
    "        #     screen = env.render()\n",
    "        #     display.clear_output(wait=True)\n",
    "        #     display.display(plt.gcf())\n",
    "        #     plt.title(str(epoch) + \" \" + str(time))\n",
    "        #     plt.imshow(screen)\n",
    "        \n",
    "        time += 1  \n",
    "        action = get_action(state, policy_model)\n",
    "        \n",
    "        new_observation, reward, done, truncated, _ =  env.step(action.item())\n",
    "\n",
    "        done = done or truncated\n",
    "        \n",
    "        if done:\n",
    "            next_state = None\n",
    "        else:\n",
    "            next_state = new_observation\n",
    "        # print(tuple(map(torch.tensor,(observation, action, new_observation, reward))))\n",
    "        memory.push((state, [action], next_state, reward))\n",
    "        state = next_state\n",
    "    \n",
    "        optimization(target_model, policy_model, memory, batch_size)\n",
    "        \n",
    "        target_net_state_dict = target_model.state_dict()\n",
    "        policy_net_state_dict = policy_model.state_dict()\n",
    "        for key in policy_net_state_dict:\n",
    "            target_net_state_dict[key] = policy_net_state_dict[key]*seta + target_net_state_dict[key]*(1-seta)\n",
    "        target_model.load_state_dict(target_net_state_dict)\n",
    "        if done:\n",
    "                episode_durations.append(time + 1)\n",
    "                plot_durations()\n",
    "                break\n",
    "    timelist.append(time)\n",
    "    if (epoch+1) % 100 == 0:\n",
    "        print(epoch, time) \n",
    "    \n",
    "        \n",
    "\n",
    "print('Complete')\n",
    "plot_durations(show_result=True)\n",
    "plt.ioff()\n",
    "plt.show()"
   ]
  },
  {
   "cell_type": "code",
   "execution_count": null,
   "metadata": {},
   "outputs": [],
   "source": []
  }
 ],
 "metadata": {
  "kernelspec": {
   "display_name": "Python 3",
   "language": "python",
   "name": "python3"
  },
  "language_info": {
   "codemirror_mode": {
    "name": "ipython",
    "version": 3
   },
   "file_extension": ".py",
   "mimetype": "text/x-python",
   "name": "python",
   "nbconvert_exporter": "python",
   "pygments_lexer": "ipython3",
   "version": "3.10.11"
  }
 },
 "nbformat": 4,
 "nbformat_minor": 2
}
